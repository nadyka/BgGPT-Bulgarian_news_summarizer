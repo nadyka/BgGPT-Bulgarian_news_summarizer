{
 "cells": [
  {
   "cell_type": "markdown",
   "metadata": {},
   "source": [
    "Phind \n",
    "To create the steps and code for the BgGPT News Summarizer Project, we'll break down the requirements into manageable tasks. This project involves web scraping, text summarization, and data presentation using Streamlit. We'll also explore options for storing the articles, including SQLite and file storage.\n",
    "\n",
    "### Step 1: Retrieve the 10 Most Recent News Articles\n",
    "\n",
    "We'll use Python with libraries like `requests` and `BeautifulSoup` for web scraping.\n"
   ]
  },
  {
   "cell_type": "markdown",
   "metadata": {},
   "source": [
    "\n",
    "```python\n",
    "import requests\n",
    "from bs4 import BeautifulSoup\n",
    "\n",
    "def get_most_recent_articles(url):\n",
    "    response = requests.get(url)\n",
    "    soup = BeautifulSoup(response.text, 'html.parser')\n",
    "    articles = soup.find_all('article', class_='news-item') # Adjust the selector based on the website's structure\n",
    "    return articles[:10]\n",
    "\n",
    "url = 'https://www.mediapool.bg/news/'\n",
    "articles = get_most_recent_articles(url)\n",
    "```\n"
   ]
  },
  {
   "cell_type": "markdown",
   "metadata": {},
   "source": [
    "\n",
    "### Step 2: Summarize Articles with BgGPT\n",
    "\n",
    "Assuming BgGPT is accessible via an API, we'll iterate over the articles and summarize them.\n"
   ]
  },
  {
   "cell_type": "markdown",
   "metadata": {},
   "source": [
    "\n",
    "```python\n",
    "def summarize_article(article_text):\n",
    "    # Placeholder for BgGPT API call\n",
    "    summary = \"This is a placeholder summary.\"\n",
    "    return summary\n",
    "\n",
    "summaries = [summarize_article(article.text) for article in articles]\n",
    "```\n",
    "\n",
    "### Step 3: Present Articles in Streamlit GUI\n",
    "\n",
    "We'll use Streamlit to create a simple GUI.\n"
   ]
  },
  {
   "cell_type": "markdown",
   "metadata": {},
   "source": [
    "\n",
    "```python\n",
    "import streamlit as st\n",
    "\n",
    "def display_articles(articles, summaries):\n",
    "    for i, (article, summary) in enumerate(zip(articles, summaries)):\n",
    "        st.header(f\"Article {i+1}\")\n",
    "        st.write(f\"Title: {article.title}\")\n",
    "        st.write(f\"Link: {article.link}\")\n",
    "        st.write(\"Summary:\")\n",
    "        st.write(summary)\n",
    "\n",
    "display_articles(articles, summaries)\n",
    "```\n"
   ]
  },
  {
   "cell_type": "markdown",
   "metadata": {},
   "source": [
    "\n",
    "### Step 4: Schedule Data Retrieval\n",
    "\n",
    "We'll use `APScheduler` to schedule the data retrieval.\n"
   ]
  },
  {
   "cell_type": "markdown",
   "metadata": {},
   "source": [
    "\n",
    "```python\n",
    "from apscheduler.schedulers.blocking import BlockingScheduler\n",
    "\n",
    "def job():\n",
    "    articles = get_most_recent_articles(url)\n",
    "    summaries = [summarize_article(article.text) for article in articles]\n",
    "    display_articles(articles, summaries)\n",
    "\n",
    "scheduler = BlockingScheduler()\n",
    "scheduler.add_job(job, 'interval', hours=12, start_date='2023-04-01 07:00:00')\n",
    "scheduler.start()\n",
    "```\n"
   ]
  },
  {
   "cell_type": "markdown",
   "metadata": {},
   "source": [
    "\n",
    "### Step 5: Store Articles\n",
    "\n",
    "For simplicity, we'll store articles in files.\n"
   ]
  },
  {
   "cell_type": "markdown",
   "metadata": {},
   "source": [
    "\n",
    "```python\n",
    "import os\n",
    "\n",
    "def save_articles(articles, summaries):\n",
    "    folder_name = \"articles_batch_\" + str(len(articles))\n",
    "    os.makedirs(folder_name, exist_ok=True)\n",
    "    for i, (article, summary) in enumerate(zip(articles, summaries)):\n",
    "        with open(f\"{folder_name}/article_{i+1}.txt\", \"w\") as f:\n",
    "            f.write(f\"Title: {article.title}\\n\")\n",
    "            f.write(f\"Link: {article.link}\\n\")\n",
    "            f.write(\"Summary:\\n\")\n",
    "            f.write(summary)\n",
    "\n",
    "save_articles(articles, summaries)\n",
    "```\n"
   ]
  },
  {
   "cell_type": "markdown",
   "metadata": {},
   "source": [
    "\n",
    "### Step 6: SQLite Database\n",
    "\n",
    "For a more robust solution, consider using SQLite to store articles and summaries.\n"
   ]
  },
  {
   "cell_type": "markdown",
   "metadata": {},
   "source": [
    "\n",
    "```python\n",
    "import sqlite3\n",
    "\n",
    "def create_db():\n",
    "    conn = sqlite3.connect('articles.db')\n",
    "    c = conn.cursor()\n",
    "    c.execute('''CREATE TABLE IF NOT EXISTS articles\n",
    "                 (id INTEGER PRIMARY KEY, title TEXT, link TEXT, summary TEXT)''')\n",
    "    conn.commit()\n",
    "    conn.close()\n",
    "\n",
    "def insert_article(title, link, summary):\n",
    "    conn = sqlite3.connect('articles.db')\n",
    "    c = conn.cursor()\n",
    "    c.execute(\"INSERT INTO articles (title, link, summary) VALUES (?, ?, ?)\", (title, link, summary))\n",
    "    conn.commit()\n",
    "    conn.close()\n",
    "\n",
    "# Example usage\n",
    "create_db()\n",
    "for article, summary in zip(articles, summaries):\n",
    "    insert_article(article.title, article.link, summary)\n",
    "```\n"
   ]
  },
  {
   "cell_type": "markdown",
   "metadata": {},
   "source": [
    "\n",
    "This project outline provides a starting point. Each step can be expanded and refined based on specific requirements and the capabilities of the BgGPT API."
   ]
  },
  {
   "cell_type": "markdown",
   "metadata": {},
   "source": []
  }
 ],
 "metadata": {
  "kernelspec": {
   "display_name": "Steamlit_OpenAI_apps",
   "language": "python",
   "name": "python3"
  },
  "language_info": {
   "name": "python",
   "version": "3.12.2"
  }
 },
 "nbformat": 4,
 "nbformat_minor": 2
}
